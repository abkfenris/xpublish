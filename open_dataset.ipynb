{
 "cells": [
  {
   "cell_type": "code",
   "execution_count": null,
   "metadata": {},
   "outputs": [],
   "source": [
    "import xarray as xr\n",
    "import zarr\n",
    "\n",
    "from fsspec.implementations.http import HTTPFileSystem"
   ]
  },
  {
   "cell_type": "code",
   "execution_count": null,
   "metadata": {},
   "outputs": [],
   "source": [
    "fs = HTTPFileSystem()\n",
    "http_map = fs.get_mapper('http://0.0.0.0:9000')"
   ]
  },
  {
   "cell_type": "code",
   "execution_count": null,
   "metadata": {},
   "outputs": [],
   "source": [
    "for key in ['.zattrs', '.zgroup', '.zmetadata', 'keys']:\n",
    "    print(key, http_map[key], '\\n')"
   ]
  },
  {
   "cell_type": "code",
   "execution_count": null,
   "metadata": {},
   "outputs": [],
   "source": [
    "zg = zarr.open_consolidated(http_map, mode='r')"
   ]
  },
  {
   "cell_type": "code",
   "execution_count": null,
   "metadata": {},
   "outputs": [],
   "source": [
    "ds = xr.tutorial.open_dataset('air_temperature',\n",
    "                              chunks=dict(lat=5, lon=5),\n",
    "                              decode_cf=False).load()"
   ]
  },
  {
   "cell_type": "code",
   "execution_count": null,
   "metadata": {},
   "outputs": [],
   "source": [
    "import numpy as np\n",
    "def test(actual, expected, index):\n",
    "    '''a simple equality test with index as a parameter'''\n",
    "    assert np.array_equal(actual[index], expected[index])"
   ]
  },
  {
   "cell_type": "code",
   "execution_count": null,
   "metadata": {},
   "outputs": [],
   "source": [
    "# test a bunch of indexing patterns\n",
    "for index in [(0, 0, 0),\n",
    "              (slice(0, 4), 0, 0),\n",
    "              (slice(0, 4), slice(0, 4), 0),\n",
    "              (slice(0, 4), slice(0, 4), slice(0, 4)),\n",
    "              (slice(-4), slice(0, 4), slice(0, 4)),\n",
    "              (slice(None), slice(0, 4), slice(0, 4)),\n",
    "              (slice(None), slice(None), slice(0, 4)),\n",
    "              (slice(None), slice(None), slice(None)),\n",
    "    ]:\n",
    "    print(index)\n",
    "    test(ds['air'], zg['air'], index)"
   ]
  },
  {
   "cell_type": "code",
   "execution_count": null,
   "metadata": {},
   "outputs": [],
   "source": [
    "zg['air'][0:5, 0, :5]"
   ]
  },
  {
   "cell_type": "code",
   "execution_count": null,
   "metadata": {},
   "outputs": [],
   "source": [
    "len(http_map['air/0.0.0'])"
   ]
  },
  {
   "cell_type": "code",
   "execution_count": null,
   "metadata": {},
   "outputs": [],
   "source": []
  }
 ],
 "metadata": {
  "kernelspec": {
   "display_name": "Python 3",
   "language": "python",
   "name": "python3"
  },
  "language_info": {
   "codemirror_mode": {
    "name": "ipython",
    "version": 3
   },
   "file_extension": ".py",
   "mimetype": "text/x-python",
   "name": "python",
   "nbconvert_exporter": "python",
   "pygments_lexer": "ipython3",
   "version": "3.7.3"
  }
 },
 "nbformat": 4,
 "nbformat_minor": 4
}
