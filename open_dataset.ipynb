{
 "cells": [
  {
   "cell_type": "code",
   "execution_count": null,
   "metadata": {},
   "outputs": [],
   "source": [
    "import xarray as xr\n",
    "import xpublish\n",
    "import zarr\n",
    "\n",
    "import numpy as np\n",
    "from json import loads\n",
    "\n",
    "from fsspec.implementations.http import HTTPFileSystem\n",
    "\n",
    "from xarray.testing import assert_identical, assert_equal, assert_chunks_equal"
   ]
  },
  {
   "cell_type": "code",
   "execution_count": null,
   "metadata": {},
   "outputs": [],
   "source": [
    "fs = HTTPFileSystem()\n",
    "http_map = fs.get_mapper('http://0.0.0.0:9000')"
   ]
  },
  {
   "cell_type": "code",
   "execution_count": null,
   "metadata": {},
   "outputs": [],
   "source": [
    "for key in ['.zmetadata', 'keys']:\n",
    "    print(key, http_map[key], '\\n')"
   ]
  },
  {
   "cell_type": "code",
   "execution_count": null,
   "metadata": {},
   "outputs": [],
   "source": [
    "d = loads(http_map['.zmetadata'])\n",
    "d['metadata']['air/.zattrs']"
   ]
  },
  {
   "cell_type": "code",
   "execution_count": null,
   "metadata": {},
   "outputs": [],
   "source": [
    "zg = zarr.open_consolidated(http_map, mode='r')"
   ]
  },
  {
   "cell_type": "code",
   "execution_count": null,
   "metadata": {},
   "outputs": [],
   "source": [
    "zg.tree()"
   ]
  },
  {
   "cell_type": "code",
   "execution_count": null,
   "metadata": {},
   "outputs": [],
   "source": [
    "ds = xr.open_zarr(http_map, consolidated=True, decode_cf=True)\n",
    "ds"
   ]
  },
  {
   "cell_type": "code",
   "execution_count": null,
   "metadata": {},
   "outputs": [],
   "source": [
    "ds_tutorial = xr.tutorial.open_dataset(\n",
    "    'air_temperature',\n",
    "    chunks=dict(lat=5, lon=5),\n",
    "    decode_cf=True)"
   ]
  },
  {
   "cell_type": "code",
   "execution_count": null,
   "metadata": {},
   "outputs": [],
   "source": [
    "ds_tutorial.air.attrs"
   ]
  },
  {
   "cell_type": "code",
   "execution_count": null,
   "metadata": {},
   "outputs": [],
   "source": [
    "def test(actual, expected, index):\n",
    "    '''a simple equality test with index as a parameter'''\n",
    "    assert np.array_equal(actual[index].values, expected[index].values)"
   ]
  },
  {
   "cell_type": "code",
   "execution_count": null,
   "metadata": {},
   "outputs": [],
   "source": [
    "# test a bunch of indexing patterns\n",
    "for index in [(0, 0, 0),\n",
    "              (slice(0, 4), 0, 0),\n",
    "              (slice(0, 4), slice(0, 4), 0),\n",
    "              (slice(0, 4), slice(0, 4), slice(0, 4)),\n",
    "              (slice(-4), slice(0, 4), slice(0, 4)),\n",
    "              (slice(None), slice(0, 4), slice(0, 4)),\n",
    "              (slice(None), slice(None), slice(0, 4)),\n",
    "              (slice(None), slice(None), slice(None)),\n",
    "    ]:\n",
    "    print(index)\n",
    "    test(ds_tutorial['air'], ds['air'], index)"
   ]
  },
  {
   "cell_type": "code",
   "execution_count": null,
   "metadata": {},
   "outputs": [],
   "source": [
    "assert_equal(ds, ds_tutorial)\n",
    "assert_chunks_equal(ds, ds_tutorial)\n",
    "assert_identical(ds, ds_tutorial)"
   ]
  },
  {
   "cell_type": "code",
   "execution_count": null,
   "metadata": {},
   "outputs": [],
   "source": []
  }
 ],
 "metadata": {
  "kernelspec": {
   "display_name": "Python 3",
   "language": "python",
   "name": "python3"
  },
  "language_info": {
   "codemirror_mode": {
    "name": "ipython",
    "version": 3
   },
   "file_extension": ".py",
   "mimetype": "text/x-python",
   "name": "python",
   "nbconvert_exporter": "python",
   "pygments_lexer": "ipython3",
   "version": "3.7.3"
  }
 },
 "nbformat": 4,
 "nbformat_minor": 4
}
