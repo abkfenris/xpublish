{
 "cells": [
  {
   "cell_type": "code",
   "execution_count": 1,
   "metadata": {},
   "outputs": [],
   "source": [
    "import xarray as xr\n",
    "import xpublish\n",
    "import zarr\n",
    "\n",
    "import numpy as np\n",
    "from json import loads\n",
    "\n",
    "from fsspec.implementations.http import HTTPFileSystem\n",
    "\n",
    "from xarray.testing import assert_identical, assert_equal, assert_chunks_equal"
   ]
  },
  {
   "cell_type": "code",
   "execution_count": 2,
   "metadata": {},
   "outputs": [],
   "source": [
    "from dask.distributed import Client"
   ]
  },
  {
   "cell_type": "code",
   "execution_count": 3,
   "metadata": {},
   "outputs": [
    {
     "name": "stderr",
     "output_type": "stream",
     "text": [
      "/Users/jhamman/miniconda3/lib/python3.6/site-packages/distributed/dashboard/core.py:79: UserWarning: \n",
      "Port 8787 is already in use. \n",
      "Perhaps you already have a cluster running?\n",
      "Hosting the diagnostics dashboard on a random port instead.\n",
      "  warnings.warn(\"\\n\" + msg)\n"
     ]
    },
    {
     "data": {
      "text/html": [
       "<table style=\"border: 2px solid white;\">\n",
       "<tr>\n",
       "<td style=\"vertical-align: top; border: 0px solid white\">\n",
       "<h3 style=\"text-align: left;\">Client</h3>\n",
       "<ul style=\"text-align: left; list-style: none; margin: 0; padding: 0;\">\n",
       "  <li><b>Scheduler: </b>tcp://127.0.0.1:59701</li>\n",
       "  <li><b>Dashboard: </b><a href='http://127.0.0.1:59702/status' target='_blank'>http://127.0.0.1:59702/status</a>\n",
       "</ul>\n",
       "</td>\n",
       "<td style=\"vertical-align: top; border: 0px solid white\">\n",
       "<h3 style=\"text-align: left;\">Cluster</h3>\n",
       "<ul style=\"text-align: left; list-style:none; margin: 0; padding: 0;\">\n",
       "  <li><b>Workers: </b>4</li>\n",
       "  <li><b>Cores: </b>4</li>\n",
       "  <li><b>Memory: </b>34.36 GB</li>\n",
       "</ul>\n",
       "</td>\n",
       "</tr>\n",
       "</table>"
      ],
      "text/plain": [
       "<Client: 'tcp://127.0.0.1:59701' processes=4 threads=4, memory=34.36 GB>"
      ]
     },
     "execution_count": 3,
     "metadata": {},
     "output_type": "execute_result"
    }
   ],
   "source": [
    "client = Client()\n",
    "client"
   ]
  },
  {
   "cell_type": "code",
   "execution_count": 4,
   "metadata": {},
   "outputs": [],
   "source": [
    "fs = HTTPFileSystem()\n",
    "http_map = fs.get_mapper('http://0.0.0.0:9000')"
   ]
  },
  {
   "cell_type": "code",
   "execution_count": 5,
   "metadata": {},
   "outputs": [
    {
     "name": "stdout",
     "output_type": "stream",
     "text": [
      ".zmetadata b'{\"zarr_consolidated_format\":1,\"metadata\":{\".zgroup\":{\"zarr_format\":2},\".zattrs\":{\"Conventions\":\"COARDS\",\"title\":\"4x daily NMC reanalysis (1948)\",\"description\":\"Data is from NMC initialized reanalysis\\\\n(4x/day).  These are the 0.9950 sigma level values.\",\"platform\":\"Model\",\"references\":\"http://www.esrl.noaa.gov/psd/data/gridded/data.ncep.reanalysis.html\"},\"lat/.zattrs\":{\"standard_name\":\"latitude\",\"long_name\":\"Latitude\",\"units\":\"degrees_north\",\"axis\":\"Y\",\"_ARRAY_DIMENSIONS\":[\"lat\"]},\"lat/.zarray\":{\"compressor\":{\"id\":\"blosc\",\"cname\":\"lz4\",\"clevel\":5,\"shuffle\":1,\"blocksize\":0},\"filters\":null,\"chunks\":[25],\"dtype\":\"<f4\",\"fill_value\":\"NaN\",\"order\":\"C\",\"shape\":[25],\"zarr_format\":2},\"air/.zattrs\":{\"long_name\":\"4xDaily Air temperature at sigma level 995\",\"units\":\"degK\",\"precision\":2,\"GRIB_id\":11,\"GRIB_name\":\"TMP\",\"var_desc\":\"Air temperature\",\"dataset\":\"NMC Reanalysis\",\"level_desc\":\"Surface\",\"statistic\":\"Individual Obs\",\"parent_stat\":\"Other\",\"actual_range\":[185.16000366210938,322.1000061035156],\"scale_factor\":0.01,\"_ARRAY_DIMENSIONS\":[\"time\",\"lat\",\"lon\"]},\"air/.zarray\":{\"compressor\":{\"id\":\"blosc\",\"cname\":\"lz4\",\"clevel\":5,\"shuffle\":1,\"blocksize\":0},\"filters\":null,\"chunks\":[2920,5,5],\"dtype\":\"<i2\",\"fill_value\":null,\"order\":\"C\",\"shape\":[2920,25,53],\"zarr_format\":2},\"lon/.zattrs\":{\"standard_name\":\"longitude\",\"long_name\":\"Longitude\",\"units\":\"degrees_east\",\"axis\":\"X\",\"_ARRAY_DIMENSIONS\":[\"lon\"]},\"lon/.zarray\":{\"compressor\":{\"id\":\"blosc\",\"cname\":\"lz4\",\"clevel\":5,\"shuffle\":1,\"blocksize\":0},\"filters\":null,\"chunks\":[53],\"dtype\":\"<f4\",\"fill_value\":\"NaN\",\"order\":\"C\",\"shape\":[53],\"zarr_format\":2},\"time/.zattrs\":{\"standard_name\":\"time\",\"long_name\":\"Time\",\"units\":\"hours since 1800-01-01\",\"calendar\":\"standard\",\"_ARRAY_DIMENSIONS\":[\"time\"]},\"time/.zarray\":{\"compressor\":{\"id\":\"blosc\",\"cname\":\"lz4\",\"clevel\":5,\"shuffle\":1,\"blocksize\":0},\"filters\":null,\"chunks\":[2920],\"dtype\":\"<f4\",\"fill_value\":\"NaN\",\"order\":\"C\",\"shape\":[2920],\"zarr_format\":2}}}' \n",
      "\n",
      "keys b'[\"lat\",\"air\",\"lon\",\"time\"]' \n",
      "\n"
     ]
    }
   ],
   "source": [
    "for key in ['.zmetadata', 'keys']:\n",
    "    print(key, http_map[key], '\\n')"
   ]
  },
  {
   "cell_type": "code",
   "execution_count": 6,
   "metadata": {},
   "outputs": [
    {
     "data": {
      "text/plain": [
       "{'long_name': '4xDaily Air temperature at sigma level 995',\n",
       " 'units': 'degK',\n",
       " 'precision': 2,\n",
       " 'GRIB_id': 11,\n",
       " 'GRIB_name': 'TMP',\n",
       " 'var_desc': 'Air temperature',\n",
       " 'dataset': 'NMC Reanalysis',\n",
       " 'level_desc': 'Surface',\n",
       " 'statistic': 'Individual Obs',\n",
       " 'parent_stat': 'Other',\n",
       " 'actual_range': [185.16000366210938, 322.1000061035156],\n",
       " 'scale_factor': 0.01,\n",
       " '_ARRAY_DIMENSIONS': ['time', 'lat', 'lon']}"
      ]
     },
     "execution_count": 6,
     "metadata": {},
     "output_type": "execute_result"
    }
   ],
   "source": [
    "d = loads(http_map['.zmetadata'])\n",
    "d['metadata']['air/.zattrs']"
   ]
  },
  {
   "cell_type": "code",
   "execution_count": 7,
   "metadata": {},
   "outputs": [],
   "source": [
    "zg = zarr.open_consolidated(http_map, mode='r')"
   ]
  },
  {
   "cell_type": "code",
   "execution_count": 8,
   "metadata": {},
   "outputs": [
    {
     "ename": "ModuleNotFoundError",
     "evalue": "No module named 'ipytree'",
     "output_type": "error",
     "traceback": [
      "\u001b[0;31m---------------------------------------------------------------------------\u001b[0m",
      "\u001b[0;31mModuleNotFoundError\u001b[0m                       Traceback (most recent call last)",
      "\u001b[0;32m~/miniconda3/lib/python3.6/site-packages/IPython/core/formatters.py\u001b[0m in \u001b[0;36m__call__\u001b[0;34m(self, obj)\u001b[0m\n\u001b[1;32m    916\u001b[0m             \u001b[0mmethod\u001b[0m \u001b[0;34m=\u001b[0m \u001b[0mget_real_method\u001b[0m\u001b[0;34m(\u001b[0m\u001b[0mobj\u001b[0m\u001b[0;34m,\u001b[0m \u001b[0mself\u001b[0m\u001b[0;34m.\u001b[0m\u001b[0mprint_method\u001b[0m\u001b[0;34m)\u001b[0m\u001b[0;34m\u001b[0m\u001b[0;34m\u001b[0m\u001b[0m\n\u001b[1;32m    917\u001b[0m             \u001b[0;32mif\u001b[0m \u001b[0mmethod\u001b[0m \u001b[0;32mis\u001b[0m \u001b[0;32mnot\u001b[0m \u001b[0;32mNone\u001b[0m\u001b[0;34m:\u001b[0m\u001b[0;34m\u001b[0m\u001b[0;34m\u001b[0m\u001b[0m\n\u001b[0;32m--> 918\u001b[0;31m                 \u001b[0mmethod\u001b[0m\u001b[0;34m(\u001b[0m\u001b[0;34m)\u001b[0m\u001b[0;34m\u001b[0m\u001b[0;34m\u001b[0m\u001b[0m\n\u001b[0m\u001b[1;32m    919\u001b[0m                 \u001b[0;32mreturn\u001b[0m \u001b[0;32mTrue\u001b[0m\u001b[0;34m\u001b[0m\u001b[0;34m\u001b[0m\u001b[0m\n\u001b[1;32m    920\u001b[0m \u001b[0;34m\u001b[0m\u001b[0m\n",
      "\u001b[0;32m~/miniconda3/lib/python3.6/site-packages/zarr/util.py\u001b[0m in \u001b[0;36m_ipython_display_\u001b[0;34m(self)\u001b[0m\n\u001b[1;32m    492\u001b[0m \u001b[0;34m\u001b[0m\u001b[0m\n\u001b[1;32m    493\u001b[0m     \u001b[0;32mdef\u001b[0m \u001b[0m_ipython_display_\u001b[0m\u001b[0;34m(\u001b[0m\u001b[0mself\u001b[0m\u001b[0;34m)\u001b[0m\u001b[0;34m:\u001b[0m\u001b[0;34m\u001b[0m\u001b[0;34m\u001b[0m\u001b[0m\n\u001b[0;32m--> 494\u001b[0;31m         \u001b[0mtree\u001b[0m \u001b[0;34m=\u001b[0m \u001b[0mtree_widget\u001b[0m\u001b[0;34m(\u001b[0m\u001b[0mself\u001b[0m\u001b[0;34m.\u001b[0m\u001b[0mgroup\u001b[0m\u001b[0;34m,\u001b[0m \u001b[0mexpand\u001b[0m\u001b[0;34m=\u001b[0m\u001b[0mself\u001b[0m\u001b[0;34m.\u001b[0m\u001b[0mexpand\u001b[0m\u001b[0;34m,\u001b[0m \u001b[0mlevel\u001b[0m\u001b[0;34m=\u001b[0m\u001b[0mself\u001b[0m\u001b[0;34m.\u001b[0m\u001b[0mlevel\u001b[0m\u001b[0;34m)\u001b[0m\u001b[0;34m\u001b[0m\u001b[0;34m\u001b[0m\u001b[0m\n\u001b[0m\u001b[1;32m    495\u001b[0m         \u001b[0mtree\u001b[0m\u001b[0;34m.\u001b[0m\u001b[0m_ipython_display_\u001b[0m\u001b[0;34m(\u001b[0m\u001b[0;34m)\u001b[0m\u001b[0;34m\u001b[0m\u001b[0;34m\u001b[0m\u001b[0m\n\u001b[1;32m    496\u001b[0m         \u001b[0;32mreturn\u001b[0m \u001b[0mtree\u001b[0m\u001b[0;34m\u001b[0m\u001b[0;34m\u001b[0m\u001b[0m\n",
      "\u001b[0;32m~/miniconda3/lib/python3.6/site-packages/zarr/util.py\u001b[0m in \u001b[0;36mtree_widget\u001b[0;34m(group, expand, level)\u001b[0m\n\u001b[1;32m    429\u001b[0m \u001b[0;34m\u001b[0m\u001b[0m\n\u001b[1;32m    430\u001b[0m \u001b[0;32mdef\u001b[0m \u001b[0mtree_widget\u001b[0m\u001b[0;34m(\u001b[0m\u001b[0mgroup\u001b[0m\u001b[0;34m,\u001b[0m \u001b[0mexpand\u001b[0m\u001b[0;34m,\u001b[0m \u001b[0mlevel\u001b[0m\u001b[0;34m)\u001b[0m\u001b[0;34m:\u001b[0m\u001b[0;34m\u001b[0m\u001b[0;34m\u001b[0m\u001b[0m\n\u001b[0;32m--> 431\u001b[0;31m     \u001b[0;32mimport\u001b[0m \u001b[0mipytree\u001b[0m\u001b[0;34m\u001b[0m\u001b[0;34m\u001b[0m\u001b[0m\n\u001b[0m\u001b[1;32m    432\u001b[0m \u001b[0;34m\u001b[0m\u001b[0m\n\u001b[1;32m    433\u001b[0m     \u001b[0mresult\u001b[0m \u001b[0;34m=\u001b[0m \u001b[0mipytree\u001b[0m\u001b[0;34m.\u001b[0m\u001b[0mTree\u001b[0m\u001b[0;34m(\u001b[0m\u001b[0;34m)\u001b[0m\u001b[0;34m\u001b[0m\u001b[0;34m\u001b[0m\u001b[0m\n",
      "\u001b[0;31mModuleNotFoundError\u001b[0m: No module named 'ipytree'"
     ]
    },
    {
     "data": {
      "text/plain": [
       "/\n",
       " ├── air (2920, 25, 53) int16\n",
       " ├── lat (25,) float32\n",
       " ├── lon (53,) float32\n",
       " └── time (2920,) float32"
      ]
     },
     "execution_count": 8,
     "metadata": {},
     "output_type": "execute_result"
    }
   ],
   "source": [
    "zg.tree()"
   ]
  },
  {
   "cell_type": "code",
   "execution_count": 9,
   "metadata": {},
   "outputs": [
    {
     "data": {
      "text/html": [
       "<pre>&lt;xarray.Dataset&gt;\n",
       "Dimensions:  (lat: 25, lon: 53, time: 2920)\n",
       "Coordinates:\n",
       "  * lat      (lat) float32 75.0 72.5 70.0 67.5 65.0 ... 25.0 22.5 20.0 17.5 15.0\n",
       "  * lon      (lon) float32 200.0 202.5 205.0 207.5 ... 322.5 325.0 327.5 330.0\n",
       "  * time     (time) datetime64[ns] 2013-01-01 ... 2014-12-31T18:00:00\n",
       "Data variables:\n",
       "    air      (time, lat, lon) float32 dask.array&lt;chunksize=(2920, 5, 5), meta=np.ndarray&gt;\n",
       "Attributes:\n",
       "    Conventions:  COARDS\n",
       "    title:        4x daily NMC reanalysis (1948)\n",
       "    description:  Data is from NMC initialized reanalysis\\n(4x/day).  These a...\n",
       "    platform:     Model\n",
       "    references:   http://www.esrl.noaa.gov/psd/data/gridded/data.ncep.reanaly...</pre>"
      ],
      "text/plain": [
       "<xarray.Dataset>\n",
       "Dimensions:  (lat: 25, lon: 53, time: 2920)\n",
       "Coordinates:\n",
       "  * lat      (lat) float32 75.0 72.5 70.0 67.5 65.0 ... 25.0 22.5 20.0 17.5 15.0\n",
       "  * lon      (lon) float32 200.0 202.5 205.0 207.5 ... 322.5 325.0 327.5 330.0\n",
       "  * time     (time) datetime64[ns] 2013-01-01 ... 2014-12-31T18:00:00\n",
       "Data variables:\n",
       "    air      (time, lat, lon) float32 dask.array<chunksize=(2920, 5, 5), meta=np.ndarray>\n",
       "Attributes:\n",
       "    Conventions:  COARDS\n",
       "    title:        4x daily NMC reanalysis (1948)\n",
       "    description:  Data is from NMC initialized reanalysis\\n(4x/day).  These a...\n",
       "    platform:     Model\n",
       "    references:   http://www.esrl.noaa.gov/psd/data/gridded/data.ncep.reanaly..."
      ]
     },
     "execution_count": 9,
     "metadata": {},
     "output_type": "execute_result"
    }
   ],
   "source": [
    "ds = xr.open_zarr(http_map, consolidated=True, decode_cf=True)\n",
    "ds"
   ]
  },
  {
   "cell_type": "code",
   "execution_count": 10,
   "metadata": {},
   "outputs": [],
   "source": [
    "ds_tutorial = xr.tutorial.open_dataset(\n",
    "    'air_temperature',\n",
    "    chunks=dict(lat=5, lon=5),\n",
    "    decode_cf=True)"
   ]
  },
  {
   "cell_type": "code",
   "execution_count": 11,
   "metadata": {},
   "outputs": [
    {
     "data": {
      "text/plain": [
       "{'long_name': '4xDaily Air temperature at sigma level 995',\n",
       " 'units': 'degK',\n",
       " 'precision': 2,\n",
       " 'GRIB_id': 11,\n",
       " 'GRIB_name': 'TMP',\n",
       " 'var_desc': 'Air temperature',\n",
       " 'dataset': 'NMC Reanalysis',\n",
       " 'level_desc': 'Surface',\n",
       " 'statistic': 'Individual Obs',\n",
       " 'parent_stat': 'Other',\n",
       " 'actual_range': array([185.16, 322.1 ], dtype=float32)}"
      ]
     },
     "execution_count": 11,
     "metadata": {},
     "output_type": "execute_result"
    }
   ],
   "source": [
    "ds_tutorial.air.attrs"
   ]
  },
  {
   "cell_type": "code",
   "execution_count": 12,
   "metadata": {},
   "outputs": [],
   "source": [
    "def test(actual, expected, index):\n",
    "    '''a simple equality test with index as a parameter'''\n",
    "    assert np.array_equal(actual[index].values, expected[index].values)"
   ]
  },
  {
   "cell_type": "code",
   "execution_count": 13,
   "metadata": {},
   "outputs": [
    {
     "name": "stdout",
     "output_type": "stream",
     "text": [
      "(0, 0, 0)\n",
      "(slice(0, 4, None), 0, 0)\n",
      "(slice(0, 4, None), slice(0, 4, None), 0)\n",
      "(slice(0, 4, None), slice(0, 4, None), slice(0, 4, None))\n",
      "(slice(None, -4, None), slice(0, 4, None), slice(0, 4, None))\n",
      "(slice(None, None, None), slice(0, 4, None), slice(0, 4, None))\n",
      "(slice(None, None, None), slice(None, None, None), slice(0, 4, None))\n",
      "(slice(None, None, None), slice(None, None, None), slice(None, None, None))\n"
     ]
    }
   ],
   "source": [
    "# test a bunch of indexing patterns\n",
    "for index in [(0, 0, 0),\n",
    "              (slice(0, 4), 0, 0),\n",
    "              (slice(0, 4), slice(0, 4), 0),\n",
    "              (slice(0, 4), slice(0, 4), slice(0, 4)),\n",
    "              (slice(-4), slice(0, 4), slice(0, 4)),\n",
    "              (slice(None), slice(0, 4), slice(0, 4)),\n",
    "              (slice(None), slice(None), slice(0, 4)),\n",
    "              (slice(None), slice(None), slice(None)),\n",
    "    ]:\n",
    "    print(index)\n",
    "    test(ds_tutorial['air'], ds['air'], index)"
   ]
  },
  {
   "cell_type": "code",
   "execution_count": 17,
   "metadata": {},
   "outputs": [],
   "source": [
    "assert_equal(ds, ds_tutorial)\n",
    "assert_chunks_equal(ds, ds_tutorial)\n",
    "assert_identical(ds, ds_tutorial)"
   ]
  },
  {
   "cell_type": "code",
   "execution_count": null,
   "metadata": {},
   "outputs": [],
   "source": []
  },
  {
   "cell_type": "code",
   "execution_count": null,
   "metadata": {},
   "outputs": [],
   "source": []
  },
  {
   "cell_type": "code",
   "execution_count": null,
   "metadata": {},
   "outputs": [],
   "source": []
  }
 ],
 "metadata": {
  "kernelspec": {
   "display_name": "Python 3",
   "language": "python",
   "name": "python3"
  },
  "language_info": {
   "codemirror_mode": {
    "name": "ipython",
    "version": 3
   },
   "file_extension": ".py",
   "mimetype": "text/x-python",
   "name": "python",
   "nbconvert_exporter": "python",
   "pygments_lexer": "ipython3",
   "version": "3.6.8"
  }
 },
 "nbformat": 4,
 "nbformat_minor": 4
}
